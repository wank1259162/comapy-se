{
 "cells": [
  {
   "cell_type": "code",
   "execution_count": 196,
   "metadata": {
    "collapsed": true
   },
   "outputs": [],
   "source": [
    "#coding=utf8\n",
    "import itchat\n",
    "import math\n",
    "import PIL.Image as Image\n",
    "import os\n",
    "from pandas import Series,DataFrame\n",
    "import pandas as pd\n",
    "import numpy as np"
   ]
  },
  {
   "cell_type": "code",
   "execution_count": 197,
   "metadata": {
    "collapsed": true
   },
   "outputs": [],
   "source": [
    "itchat.auto_login(hotReload=True)   #设置为自动 登录"
   ]
  },
  {
   "cell_type": "code",
   "execution_count": 198,
   "metadata": {
    "collapsed": true
   },
   "outputs": [],
   "source": [
    "friends = itchat.get_friends(update=True)[0:]\n"
   ]
  },
  {
   "cell_type": "code",
   "execution_count": 199,
   "metadata": {
    "collapsed": true
   },
   "outputs": [],
   "source": [
    "maps=itchat.get_mps(update=True)[0:]\n"
   ]
  },
  {
   "cell_type": "code",
   "execution_count": 200,
   "metadata": {
    "collapsed": true
   },
   "outputs": [],
   "source": [
    "chatroms=itchat.get_chatrooms(update=True)[0:]"
   ]
  },
  {
   "cell_type": "code",
   "execution_count": 201,
   "metadata": {
    "collapsed": true
   },
   "outputs": [],
   "source": [
    "#ff=DataFrame(friends)              #好友列表\n",
    "#fmaps=DataFrame(maps)              #公众号列表\n",
    "#fchatroms=DataFrame(chatroms)      #群聊列表"
   ]
  },
  {
   "cell_type": "code",
   "execution_count": 202,
   "metadata": {
    "collapsed": true
   },
   "outputs": [],
   "source": [
    "\n",
    "#将数据写入文件保存，编码格式设置为utf-8\n",
    "#fchatroms.to_csv('itchat_chatroms.csv',encoding='utf-8') \n",
    "#fmaps.to_csv('itchat_maps.csv',encoding='utf-8')\n",
    "#ff.to_csv('itchat_data.csv',encoding='utf-8')"
   ]
  },
  {
   "cell_type": "code",
   "execution_count": 203,
   "metadata": {
    "collapsed": true
   },
   "outputs": [],
   "source": [
    "#fchatroms.head()"
   ]
  },
  {
   "cell_type": "code",
   "execution_count": 204,
   "metadata": {},
   "outputs": [
    {
     "data": {
      "text/plain": [
       "u'@@23e120317c68dffe47e26f2f4fec275179cd7ced68f40431213ceb408f8ad3ad'"
      ]
     },
     "execution_count": 204,
     "metadata": {},
     "output_type": "execute_result"
    }
   ],
   "source": [
    "chatroms[0]['UserName']"
   ]
  },
  {
   "cell_type": "code",
   "execution_count": 205,
   "metadata": {
    "collapsed": true
   },
   "outputs": [],
   "source": [
    "memberList = itchat.update_chatroom(\n",
    "                                      #u'@@23e120317c68dffe47e26f2f4fec275179cd7ced68f40431213ceb408f8ad3ad',\n",
    "                                      chatroms[4]['UserName'], \n",
    "                                      detailedMember=True\n",
    "                                    ) #memberList返回所有群聊成员"
   ]
  },
  {
   "cell_type": "code",
   "execution_count": 206,
   "metadata": {
    "collapsed": true
   },
   "outputs": [],
   "source": [
    "#dc=memberList.update()"
   ]
  },
  {
   "cell_type": "code",
   "execution_count": 207,
   "metadata": {
    "collapsed": true
   },
   "outputs": [],
   "source": [
    "#memberList['UserName']"
   ]
  },
  {
   "cell_type": "code",
   "execution_count": 208,
   "metadata": {
    "collapsed": true
   },
   "outputs": [],
   "source": [
    "meb_fd=DataFrame(\n",
    "                   dict(memberList)['MemberList'],\n",
    "                   columns=['DisplayName','City','UserName','Sex','Signature'],\n",
    "                   index=range(memberList['MemberCount'])\n",
    "                )"
   ]
  },
  {
   "cell_type": "code",
   "execution_count": 209,
   "metadata": {
    "scrolled": true
   },
   "outputs": [],
   "source": [
    "#meb_fd[:]"
   ]
  },
  {
   "cell_type": "code",
   "execution_count": 210,
   "metadata": {},
   "outputs": [],
   "source": [
    "meb_fd.to_csv(\n",
    "                 'itchat_cywang.csv',\n",
    "                 columns=['DisplayName','City','UserName','Sex','Signature'],\n",
    "                 index_label=['Num'],\n",
    "                 encoding='utf-8'                \n",
    "              )"
   ]
  },
  {
   "cell_type": "code",
   "execution_count": 211,
   "metadata": {
    "collapsed": true
   },
   "outputs": [],
   "source": [
    "memberList1 = itchat.update_chatroom(\n",
    "                                      u'@@23e120317c68dffe47e26f2f4fec275179cd7ced68f40431213ceb408f8ad3ad',# 2017MBA同学群\n",
    "                                     # chatroms[4]['UserName'], \n",
    "                                      detailedMember=True\n",
    "                                    ) #memberList返回所有群聊成员"
   ]
  },
  {
   "cell_type": "code",
   "execution_count": 212,
   "metadata": {
    "collapsed": true
   },
   "outputs": [],
   "source": [
    "meb_fd1=DataFrame(\n",
    "                   dict(memberList1)['MemberList'],\n",
    "                   columns=['DisplayName','City','UserName','Sex','Signature'],\n",
    "                   index=range(memberList1['MemberCount'])\n",
    "                )"
   ]
  },
  {
   "cell_type": "code",
   "execution_count": 213,
   "metadata": {},
   "outputs": [],
   "source": [
    "#meb_fd1[:1]"
   ]
  },
  {
   "cell_type": "code",
   "execution_count": 214,
   "metadata": {
    "collapsed": true
   },
   "outputs": [],
   "source": [
    "meb_fd1.to_csv(\n",
    "                 'itchat_2017MBA.csv',\n",
    "                 columns=['DisplayName','City','UserName','Sex','Signature'], # 命名列\n",
    "                 index_label=['Num'],                                         #命名索引标签\n",
    "                 encoding='utf-8'                                                \n",
    "              )"
   ]
  },
  {
   "cell_type": "code",
   "execution_count": 273,
   "metadata": {
    "collapsed": true
   },
   "outputs": [],
   "source": [
    "#meb_fd.pivot(columns=['City'],index=['UserName'])"
   ]
  },
  {
   "cell_type": "code",
   "execution_count": 259,
   "metadata": {
    "collapsed": true
   },
   "outputs": [],
   "source": [
    "#meb_fd.groupby(['City','Sex']).count()"
   ]
  },
  {
   "cell_type": "code",
   "execution_count": 262,
   "metadata": {
    "collapsed": true
   },
   "outputs": [],
   "source": [
    "#pd.pivot_table(meb_fd,columns=['City','Sex']) "
   ]
  },
  {
   "cell_type": "code",
   "execution_count": 244,
   "metadata": {
    "collapsed": true
   },
   "outputs": [],
   "source": [
    "#meb_fd['Signature']"
   ]
  },
  {
   "cell_type": "code",
   "execution_count": 180,
   "metadata": {
    "collapsed": true
   },
   "outputs": [],
   "source": [
    "num = 0\n"
   ]
  },
  {
   "cell_type": "code",
   "execution_count": 181,
   "metadata": {
    "collapsed": true
   },
   "outputs": [],
   "source": [
    "\n",
    " "
   ]
  },
  {
   "cell_type": "code",
   "execution_count": 182,
   "metadata": {
    "collapsed": true
   },
   "outputs": [],
   "source": [
    "for i in range(memberList['MemberCount']):\n",
    "              img = itchat.get_head_img(\n",
    "                                         #userName=u'@fa11bfbf20ef31274032419974c19b40',\n",
    "                                         userName=DataFrame(dict(memberList)['MemberList'])['UserName'][i],\n",
    "                                         chatroomUserName=u'@@dc389348d554bea89c341bfd0697f340450fc2c06433834945db2336ad0f73bb'\n",
    "                                       )\n",
    "              with open('./headImg2/'+str(num) + \".jpg\",'wb') as f: \n",
    "               f.write(img)\n",
    "               f.close()\n",
    "              num += 1\n",
    "                "
   ]
  },
  {
   "cell_type": "code",
   "execution_count": 166,
   "metadata": {
    "collapsed": true
   },
   "outputs": [],
   "source": [
    "DataFrame(dict(memberList)['MemberList']).to_csv('itchat_room_data.csv',encoding='utf-8')\n"
   ]
  },
  {
   "cell_type": "code",
   "execution_count": 156,
   "metadata": {
    "collapsed": true
   },
   "outputs": [],
   "source": []
  },
  {
   "cell_type": "code",
   "execution_count": 157,
   "metadata": {
    "collapsed": true
   },
   "outputs": [],
   "source": []
  },
  {
   "cell_type": "code",
   "execution_count": 158,
   "metadata": {
    "collapsed": true
   },
   "outputs": [],
   "source": []
  },
  {
   "cell_type": "code",
   "execution_count": 159,
   "metadata": {
    "collapsed": true
   },
   "outputs": [],
   "source": []
  },
  {
   "cell_type": "code",
   "execution_count": null,
   "metadata": {
    "collapsed": true
   },
   "outputs": [],
   "source": []
  }
 ],
 "metadata": {
  "kernelspec": {
   "display_name": "Python 2",
   "language": "python",
   "name": "python2"
  },
  "language_info": {
   "codemirror_mode": {
    "name": "ipython",
    "version": 2
   },
   "file_extension": ".py",
   "mimetype": "text/x-python",
   "name": "python",
   "nbconvert_exporter": "python",
   "pygments_lexer": "ipython2",
   "version": "2.7.12"
  }
 },
 "nbformat": 4,
 "nbformat_minor": 2
}
