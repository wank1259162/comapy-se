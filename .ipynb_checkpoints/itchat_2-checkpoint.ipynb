{
 "cells": [
  {
   "cell_type": "code",
   "execution_count": 246,
   "metadata": {},
   "outputs": [],
   "source": [
    "#coding=utf8\n",
    "import itchat\n",
    "import math\n",
    "import PIL.Image as Image\n",
    "import os\n",
    "from pandas import Series,DataFrame\n",
    "import pandas as pd\n",
    "import numpy as np"
   ]
  },
  {
   "cell_type": "code",
   "execution_count": 247,
   "metadata": {},
   "outputs": [],
   "source": [
    "itchat.auto_login(hotReload=True)   #设置为自动 登录"
   ]
  },
  {
   "cell_type": "code",
   "execution_count": 248,
   "metadata": {
    "collapsed": true
   },
   "outputs": [],
   "source": [
    "friends = itchat.get_friends(update=True)[0:]\n"
   ]
  },
  {
   "cell_type": "code",
   "execution_count": 249,
   "metadata": {
    "collapsed": true
   },
   "outputs": [],
   "source": [
    "maps=itchat.get_mps(update=True)[0:]\n"
   ]
  },
  {
   "cell_type": "code",
   "execution_count": 250,
   "metadata": {
    "collapsed": true
   },
   "outputs": [],
   "source": [
    "chatroms=itchat.get_chatrooms(update=True)[0:]"
   ]
  },
  {
   "cell_type": "code",
   "execution_count": 251,
   "metadata": {
    "collapsed": true
   },
   "outputs": [],
   "source": [
    "ff=DataFrame(friends)              #好友列表\n",
    "fmaps=DataFrame(maps)              #公众号列表\n",
    "fchatroms=DataFrame(chatroms)      #群聊列表"
   ]
  },
  {
   "cell_type": "code",
   "execution_count": 252,
   "metadata": {
    "collapsed": true
   },
   "outputs": [],
   "source": [
    "\n",
    "#将数据写入文件保存，编码格式设置为utf-8\n",
    "fchatroms.to_csv('itchat_chatroms.csv',encoding='utf-8') \n",
    "fmaps.to_csv('itchat_maps.csv',encoding='utf-8')\n",
    "ff.to_csv('itchat_data.csv',encoding='utf-8')"
   ]
  },
  {
   "cell_type": "code",
   "execution_count": 253,
   "metadata": {},
   "outputs": [],
   "source": [
    "#fchatroms[:5]['MemberCount']"
   ]
  },
  {
   "cell_type": "code",
   "execution_count": 254,
   "metadata": {},
   "outputs": [],
   "source": [
    "#fchatroms[:5]['UserName']"
   ]
  },
  {
   "cell_type": "code",
   "execution_count": 255,
   "metadata": {
    "collapsed": true
   },
   "outputs": [],
   "source": [
    "memberList = itchat.update_chatroom(chatroms[4]['UserName'], detailedMember=True) #memberList返回所有群聊成员"
   ]
  },
  {
   "cell_type": "code",
   "execution_count": 256,
   "metadata": {},
   "outputs": [],
   "source": [
    "#dc=memberList.update()"
   ]
  },
  {
   "cell_type": "code",
   "execution_count": 257,
   "metadata": {},
   "outputs": [
    {
     "data": {
      "text/plain": [
       "u'@@dc389348d554bea89c341bfd0697f340450fc2c06433834945db2336ad0f73bb'"
      ]
     },
     "execution_count": 257,
     "metadata": {},
     "output_type": "execute_result"
    }
   ],
   "source": [
    "memberList['UserName']"
   ]
  },
  {
   "cell_type": "code",
   "execution_count": 258,
   "metadata": {},
   "outputs": [],
   "source": [
    "meb_fd=DataFrame(\n",
    "                   dict(memberList)['MemberList'],\n",
    "                   columns=['DisplayName','City','UserName','Sex','Signature'],\n",
    "                   index=range(memberList['MemberCount'])\n",
    "                )"
   ]
  },
  {
   "cell_type": "code",
   "execution_count": 276,
   "metadata": {},
   "outputs": [],
   "source": [
    "#meb_fd.pivot_table(index=['City'])"
   ]
  },
  {
   "cell_type": "code",
   "execution_count": 275,
   "metadata": {},
   "outputs": [
    {
     "data": {
      "text/html": [
       "<div>\n",
       "<style>\n",
       "    .dataframe thead tr:only-child th {\n",
       "        text-align: right;\n",
       "    }\n",
       "\n",
       "    .dataframe thead th {\n",
       "        text-align: left;\n",
       "    }\n",
       "\n",
       "    .dataframe tbody tr th {\n",
       "        vertical-align: top;\n",
       "    }\n",
       "</style>\n",
       "<table border=\"1\" class=\"dataframe\">\n",
       "  <thead>\n",
       "    <tr style=\"text-align: right;\">\n",
       "      <th></th>\n",
       "      <th>DisplayName</th>\n",
       "      <th>City</th>\n",
       "      <th>UserName</th>\n",
       "      <th>Sex</th>\n",
       "      <th>Signature</th>\n",
       "    </tr>\n",
       "  </thead>\n",
       "  <tbody>\n",
       "    <tr>\n",
       "      <th>0</th>\n",
       "      <td>非全日制-梁爽🍭-集中班1班</td>\n",
       "      <td></td>\n",
       "      <td>@fa11bfbf20ef31274032419974c19b40</td>\n",
       "      <td>2</td>\n",
       "      <td></td>\n",
       "    </tr>\n",
       "    <tr>\n",
       "      <th>1</th>\n",
       "      <td>张稀钧-集中二班</td>\n",
       "      <td>丰台</td>\n",
       "      <td>@d96d99f58268df25ec619d2d240027c8</td>\n",
       "      <td>2</td>\n",
       "      <td>Be slow to promise and quick to perform.</td>\n",
       "    </tr>\n",
       "    <tr>\n",
       "      <th>2</th>\n",
       "      <td>非全日制-李宗阳-周末3班</td>\n",
       "      <td>朝阳</td>\n",
       "      <td>@50e498755af71b85f112ed89470afe36fc44d22b51b97...</td>\n",
       "      <td>2</td>\n",
       "      <td>认真的人总会有收获</td>\n",
       "    </tr>\n",
       "    <tr>\n",
       "      <th>3</th>\n",
       "      <td>全日制-郜晓卉</td>\n",
       "      <td>朝阳</td>\n",
       "      <td>@18029a4a841b5bbe0d012c53ede6ff7f</td>\n",
       "      <td>2</td>\n",
       "      <td>活在当下 缅怀过去</td>\n",
       "    </tr>\n",
       "    <tr>\n",
       "      <th>4</th>\n",
       "      <td>非全日制-徐国琳</td>\n",
       "      <td>海淀</td>\n",
       "      <td>@201eca56296fbd594b3717e8707cad1800c0797d50fa9...</td>\n",
       "      <td>1</td>\n",
       "      <td>高山流水，炊烟飘处是我家。</td>\n",
       "    </tr>\n",
       "  </tbody>\n",
       "</table>\n",
       "</div>"
      ],
      "text/plain": [
       "       DisplayName City                                           UserName  \\\n",
       "0  非全日制-梁爽🍭-集中班1班                       @fa11bfbf20ef31274032419974c19b40   \n",
       "1         张稀钧-集中二班   丰台                  @d96d99f58268df25ec619d2d240027c8   \n",
       "2    非全日制-李宗阳-周末3班   朝阳  @50e498755af71b85f112ed89470afe36fc44d22b51b97...   \n",
       "3          全日制-郜晓卉   朝阳                  @18029a4a841b5bbe0d012c53ede6ff7f   \n",
       "4         非全日制-徐国琳   海淀  @201eca56296fbd594b3717e8707cad1800c0797d50fa9...   \n",
       "\n",
       "   Sex                                 Signature  \n",
       "0    2                                            \n",
       "1    2  Be slow to promise and quick to perform.  \n",
       "2    2                                 认真的人总会有收获  \n",
       "3    2                                 活在当下 缅怀过去  \n",
       "4    1                             高山流水，炊烟飘处是我家。  "
      ]
     },
     "execution_count": 275,
     "metadata": {},
     "output_type": "execute_result"
    }
   ],
   "source": [
    "meb_fd.head()"
   ]
  },
  {
   "cell_type": "code",
   "execution_count": 273,
   "metadata": {},
   "outputs": [],
   "source": [
    "#meb_fd.pivot(columns=['City'],index=['UserName'])"
   ]
  },
  {
   "cell_type": "code",
   "execution_count": 259,
   "metadata": {},
   "outputs": [],
   "source": [
    "#meb_fd.groupby(['City','Sex']).count()"
   ]
  },
  {
   "cell_type": "code",
   "execution_count": 262,
   "metadata": {},
   "outputs": [],
   "source": [
    "#pd.pivot_table(meb_fd,columns=['City','Sex']) "
   ]
  },
  {
   "cell_type": "code",
   "execution_count": 244,
   "metadata": {},
   "outputs": [],
   "source": [
    "#meb_fd['Signature']"
   ]
  },
  {
   "cell_type": "code",
   "execution_count": 180,
   "metadata": {},
   "outputs": [],
   "source": [
    "num = 0\n"
   ]
  },
  {
   "cell_type": "code",
   "execution_count": 181,
   "metadata": {},
   "outputs": [],
   "source": [
    "#for i in friends:\n",
    "#     img = itchat.get_head_img(userName=u'@d96d99f58268df25ec619d2d240027c8')\t\n",
    "#     with open('./headImg1/'+str(num) + \".jpg\",'wb') as f:\n",
    "#\t f.write(img)\n",
    "#\t f.close()\n",
    "#\t num += 1\n",
    " "
   ]
  },
  {
   "cell_type": "code",
   "execution_count": 182,
   "metadata": {},
   "outputs": [],
   "source": [
    "for i in range(memberList['MemberCount']):\n",
    "              img = itchat.get_head_img(\n",
    "                                         #userName=u'@fa11bfbf20ef31274032419974c19b40',\n",
    "                                         userName=DataFrame(dict(memberList)['MemberList'])['UserName'][i],\n",
    "                                         chatroomUserName=u'@@dc389348d554bea89c341bfd0697f340450fc2c06433834945db2336ad0f73bb'\n",
    "                                       )\n",
    "              with open('./headImg2/'+str(num) + \".jpg\",'wb') as f: \n",
    "               f.write(img)\n",
    "               f.close()\n",
    "              num += 1\n",
    "                "
   ]
  },
  {
   "cell_type": "code",
   "execution_count": 166,
   "metadata": {},
   "outputs": [],
   "source": [
    "DataFrame(dict(memberList)['MemberList']).to_csv('itchat_room_data.csv',encoding='utf-8')\n"
   ]
  },
  {
   "cell_type": "code",
   "execution_count": 156,
   "metadata": {},
   "outputs": [],
   "source": []
  },
  {
   "cell_type": "code",
   "execution_count": 157,
   "metadata": {},
   "outputs": [],
   "source": []
  },
  {
   "cell_type": "code",
   "execution_count": 158,
   "metadata": {
    "collapsed": true
   },
   "outputs": [],
   "source": []
  },
  {
   "cell_type": "code",
   "execution_count": 159,
   "metadata": {},
   "outputs": [],
   "source": []
  },
  {
   "cell_type": "code",
   "execution_count": null,
   "metadata": {
    "collapsed": true
   },
   "outputs": [],
   "source": []
  }
 ],
 "metadata": {
  "kernelspec": {
   "display_name": "Python 2",
   "language": "python",
   "name": "python2"
  },
  "language_info": {
   "codemirror_mode": {
    "name": "ipython",
    "version": 2
   },
   "file_extension": ".py",
   "mimetype": "text/x-python",
   "name": "python",
   "nbconvert_exporter": "python",
   "pygments_lexer": "ipython2",
   "version": "2.7.12"
  }
 },
 "nbformat": 4,
 "nbformat_minor": 2
}
